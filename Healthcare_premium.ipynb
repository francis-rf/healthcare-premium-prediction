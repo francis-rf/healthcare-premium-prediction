{
 "cells": [
  {
   "cell_type": "markdown",
   "id": "68045b27",
   "metadata": {},
   "source": [
    "# ---------------------------------\n",
    "# 1. Import Libraries\n",
    "# ---------------------------------"
   ]
  },
  {
   "cell_type": "code",
   "execution_count": 30,
   "id": "89dbbdd0",
   "metadata": {},
   "outputs": [],
   "source": [
    "import numpy as np\n",
    "import pandas as pd\n",
    "import matplotlib.pyplot as plt\n",
    "import seaborn as sns\n",
    "import warnings\n",
    "\n",
    "\n",
    "pd.set_option('display.max_columns',None)\n",
    "sns.set_theme(context='paper',style='darkgrid')\n",
    "\n",
    "warnings.filterwarnings('ignore')"
   ]
  },
  {
   "cell_type": "markdown",
   "id": "968826ab",
   "metadata": {},
   "source": [
    "# ---------------------------------\n",
    "# 2. Load Data\n",
    "# ---------------------------------"
   ]
  },
  {
   "cell_type": "code",
   "execution_count": 31,
   "id": "b0a144ff",
   "metadata": {},
   "outputs": [
    {
     "name": "stdout",
     "output_type": "stream",
     "text": [
      "(50000, 13)\n"
     ]
    },
    {
     "data": {
      "text/html": [
       "<div>\n",
       "<style scoped>\n",
       "    .dataframe tbody tr th:only-of-type {\n",
       "        vertical-align: middle;\n",
       "    }\n",
       "\n",
       "    .dataframe tbody tr th {\n",
       "        vertical-align: top;\n",
       "    }\n",
       "\n",
       "    .dataframe thead th {\n",
       "        text-align: right;\n",
       "    }\n",
       "</style>\n",
       "<table border=\"1\" class=\"dataframe\">\n",
       "  <thead>\n",
       "    <tr style=\"text-align: right;\">\n",
       "      <th></th>\n",
       "      <th>Age</th>\n",
       "      <th>Gender</th>\n",
       "      <th>Region</th>\n",
       "      <th>Marital_status</th>\n",
       "      <th>Number Of Dependants</th>\n",
       "      <th>BMI_Category</th>\n",
       "      <th>Smoking_Status</th>\n",
       "      <th>Employment_Status</th>\n",
       "      <th>Income_Level</th>\n",
       "      <th>Income_Lakhs</th>\n",
       "      <th>Medical History</th>\n",
       "      <th>Insurance_Plan</th>\n",
       "      <th>Annual_Premium_Amount</th>\n",
       "    </tr>\n",
       "  </thead>\n",
       "  <tbody>\n",
       "    <tr>\n",
       "      <th>0</th>\n",
       "      <td>26</td>\n",
       "      <td>Male</td>\n",
       "      <td>Northwest</td>\n",
       "      <td>Unmarried</td>\n",
       "      <td>0</td>\n",
       "      <td>Normal</td>\n",
       "      <td>No Smoking</td>\n",
       "      <td>Salaried</td>\n",
       "      <td>&lt;10L</td>\n",
       "      <td>6</td>\n",
       "      <td>Diabetes</td>\n",
       "      <td>Bronze</td>\n",
       "      <td>9053</td>\n",
       "    </tr>\n",
       "    <tr>\n",
       "      <th>1</th>\n",
       "      <td>29</td>\n",
       "      <td>Female</td>\n",
       "      <td>Southeast</td>\n",
       "      <td>Married</td>\n",
       "      <td>2</td>\n",
       "      <td>Obesity</td>\n",
       "      <td>Regular</td>\n",
       "      <td>Salaried</td>\n",
       "      <td>&lt;10L</td>\n",
       "      <td>6</td>\n",
       "      <td>Diabetes</td>\n",
       "      <td>Bronze</td>\n",
       "      <td>16339</td>\n",
       "    </tr>\n",
       "    <tr>\n",
       "      <th>2</th>\n",
       "      <td>49</td>\n",
       "      <td>Female</td>\n",
       "      <td>Northeast</td>\n",
       "      <td>Married</td>\n",
       "      <td>2</td>\n",
       "      <td>Normal</td>\n",
       "      <td>No Smoking</td>\n",
       "      <td>Self-Employed</td>\n",
       "      <td>10L - 25L</td>\n",
       "      <td>20</td>\n",
       "      <td>High blood pressure</td>\n",
       "      <td>Silver</td>\n",
       "      <td>18164</td>\n",
       "    </tr>\n",
       "    <tr>\n",
       "      <th>3</th>\n",
       "      <td>30</td>\n",
       "      <td>Female</td>\n",
       "      <td>Southeast</td>\n",
       "      <td>Married</td>\n",
       "      <td>3</td>\n",
       "      <td>Normal</td>\n",
       "      <td>No Smoking</td>\n",
       "      <td>Salaried</td>\n",
       "      <td>&gt; 40L</td>\n",
       "      <td>77</td>\n",
       "      <td>No Disease</td>\n",
       "      <td>Gold</td>\n",
       "      <td>20303</td>\n",
       "    </tr>\n",
       "    <tr>\n",
       "      <th>4</th>\n",
       "      <td>18</td>\n",
       "      <td>Male</td>\n",
       "      <td>Northeast</td>\n",
       "      <td>Unmarried</td>\n",
       "      <td>0</td>\n",
       "      <td>Overweight</td>\n",
       "      <td>Regular</td>\n",
       "      <td>Self-Employed</td>\n",
       "      <td>&gt; 40L</td>\n",
       "      <td>99</td>\n",
       "      <td>High blood pressure</td>\n",
       "      <td>Silver</td>\n",
       "      <td>13365</td>\n",
       "    </tr>\n",
       "  </tbody>\n",
       "</table>\n",
       "</div>"
      ],
      "text/plain": [
       "   Age  Gender     Region Marital_status  Number Of Dependants BMI_Category  \\\n",
       "0   26    Male  Northwest      Unmarried                     0       Normal   \n",
       "1   29  Female  Southeast        Married                     2      Obesity   \n",
       "2   49  Female  Northeast        Married                     2       Normal   \n",
       "3   30  Female  Southeast        Married                     3       Normal   \n",
       "4   18    Male  Northeast      Unmarried                     0   Overweight   \n",
       "\n",
       "  Smoking_Status Employment_Status Income_Level  Income_Lakhs  \\\n",
       "0     No Smoking          Salaried         <10L             6   \n",
       "1        Regular          Salaried         <10L             6   \n",
       "2     No Smoking     Self-Employed    10L - 25L            20   \n",
       "3     No Smoking          Salaried        > 40L            77   \n",
       "4        Regular     Self-Employed        > 40L            99   \n",
       "\n",
       "       Medical History Insurance_Plan  Annual_Premium_Amount  \n",
       "0             Diabetes         Bronze                   9053  \n",
       "1             Diabetes         Bronze                  16339  \n",
       "2  High blood pressure         Silver                  18164  \n",
       "3           No Disease           Gold                  20303  \n",
       "4  High blood pressure         Silver                  13365  "
      ]
     },
     "execution_count": 31,
     "metadata": {},
     "output_type": "execute_result"
    }
   ],
   "source": [
    "df = pd.read_excel('premiums.xlsx')\n",
    "print(df.shape)\n",
    "df.head()"
   ]
  },
  {
   "cell_type": "markdown",
   "id": "5b96f3cc",
   "metadata": {},
   "source": [
    "# ---------------------------------\n",
    "# 3. Data Overview\n",
    "# ---------------------------------"
   ]
  },
  {
   "cell_type": "code",
   "execution_count": 32,
   "id": "f129eb36",
   "metadata": {},
   "outputs": [
    {
     "name": "stdout",
     "output_type": "stream",
     "text": [
      "<class 'pandas.core.frame.DataFrame'>\n",
      "RangeIndex: 50000 entries, 0 to 49999\n",
      "Data columns (total 13 columns):\n",
      " #   Column                 Non-Null Count  Dtype \n",
      "---  ------                 --------------  ----- \n",
      " 0   Age                    50000 non-null  int64 \n",
      " 1   Gender                 50000 non-null  object\n",
      " 2   Region                 50000 non-null  object\n",
      " 3   Marital_status         50000 non-null  object\n",
      " 4   Number Of Dependants   50000 non-null  int64 \n",
      " 5   BMI_Category           50000 non-null  object\n",
      " 6   Smoking_Status         49989 non-null  object\n",
      " 7   Employment_Status      49998 non-null  object\n",
      " 8   Income_Level           49987 non-null  object\n",
      " 9   Income_Lakhs           50000 non-null  int64 \n",
      " 10  Medical History        50000 non-null  object\n",
      " 11  Insurance_Plan         50000 non-null  object\n",
      " 12  Annual_Premium_Amount  50000 non-null  int64 \n",
      "dtypes: int64(4), object(9)\n",
      "memory usage: 5.0+ MB\n"
     ]
    },
    {
     "data": {
      "text/html": [
       "<div>\n",
       "<style scoped>\n",
       "    .dataframe tbody tr th:only-of-type {\n",
       "        vertical-align: middle;\n",
       "    }\n",
       "\n",
       "    .dataframe tbody tr th {\n",
       "        vertical-align: top;\n",
       "    }\n",
       "\n",
       "    .dataframe thead th {\n",
       "        text-align: right;\n",
       "    }\n",
       "</style>\n",
       "<table border=\"1\" class=\"dataframe\">\n",
       "  <thead>\n",
       "    <tr style=\"text-align: right;\">\n",
       "      <th></th>\n",
       "      <th>Age</th>\n",
       "      <th>Number Of Dependants</th>\n",
       "      <th>Income_Lakhs</th>\n",
       "      <th>Annual_Premium_Amount</th>\n",
       "    </tr>\n",
       "  </thead>\n",
       "  <tbody>\n",
       "    <tr>\n",
       "      <th>count</th>\n",
       "      <td>50000.000000</td>\n",
       "      <td>50000.000000</td>\n",
       "      <td>50000.000000</td>\n",
       "      <td>50000.000000</td>\n",
       "    </tr>\n",
       "    <tr>\n",
       "      <th>mean</th>\n",
       "      <td>34.593480</td>\n",
       "      <td>1.712080</td>\n",
       "      <td>23.018200</td>\n",
       "      <td>15768.116320</td>\n",
       "    </tr>\n",
       "    <tr>\n",
       "      <th>std</th>\n",
       "      <td>15.000437</td>\n",
       "      <td>1.498248</td>\n",
       "      <td>24.219197</td>\n",
       "      <td>8419.839675</td>\n",
       "    </tr>\n",
       "    <tr>\n",
       "      <th>min</th>\n",
       "      <td>18.000000</td>\n",
       "      <td>-3.000000</td>\n",
       "      <td>1.000000</td>\n",
       "      <td>3501.000000</td>\n",
       "    </tr>\n",
       "    <tr>\n",
       "      <th>25%</th>\n",
       "      <td>22.000000</td>\n",
       "      <td>0.000000</td>\n",
       "      <td>7.000000</td>\n",
       "      <td>8608.000000</td>\n",
       "    </tr>\n",
       "    <tr>\n",
       "      <th>50%</th>\n",
       "      <td>31.000000</td>\n",
       "      <td>2.000000</td>\n",
       "      <td>17.000000</td>\n",
       "      <td>13929.000000</td>\n",
       "    </tr>\n",
       "    <tr>\n",
       "      <th>75%</th>\n",
       "      <td>45.000000</td>\n",
       "      <td>3.000000</td>\n",
       "      <td>31.000000</td>\n",
       "      <td>22275.250000</td>\n",
       "    </tr>\n",
       "    <tr>\n",
       "      <th>max</th>\n",
       "      <td>356.000000</td>\n",
       "      <td>5.000000</td>\n",
       "      <td>930.000000</td>\n",
       "      <td>43471.000000</td>\n",
       "    </tr>\n",
       "  </tbody>\n",
       "</table>\n",
       "</div>"
      ],
      "text/plain": [
       "                Age  Number Of Dependants  Income_Lakhs  Annual_Premium_Amount\n",
       "count  50000.000000          50000.000000  50000.000000           50000.000000\n",
       "mean      34.593480              1.712080     23.018200           15768.116320\n",
       "std       15.000437              1.498248     24.219197            8419.839675\n",
       "min       18.000000             -3.000000      1.000000            3501.000000\n",
       "25%       22.000000              0.000000      7.000000            8608.000000\n",
       "50%       31.000000              2.000000     17.000000           13929.000000\n",
       "75%       45.000000              3.000000     31.000000           22275.250000\n",
       "max      356.000000              5.000000    930.000000           43471.000000"
      ]
     },
     "execution_count": 32,
     "metadata": {},
     "output_type": "execute_result"
    }
   ],
   "source": [
    "df.info()\n",
    "df.describe()"
   ]
  },
  {
   "cell_type": "code",
   "execution_count": 33,
   "id": "f217f622",
   "metadata": {},
   "outputs": [],
   "source": [
    "# unique values in category column"
   ]
  },
  {
   "cell_type": "code",
   "execution_count": 34,
   "id": "361f6568",
   "metadata": {},
   "outputs": [
    {
     "name": "stdout",
     "output_type": "stream",
     "text": [
      "Gender              :['Male' 'Female']\n",
      "Region              :['Northwest' 'Southeast' 'Northeast' 'Southwest']\n",
      "Marital_status      :['Unmarried' 'Married']\n",
      "BMI_Category        :['Normal' 'Obesity' 'Overweight' 'Underweight']\n",
      "Smoking_Status      :['No Smoking' 'Regular' 'Occasional' nan 'Smoking=0' 'Does Not Smoke'\n",
      " 'Not Smoking']\n",
      "Employment_Status   :['Salaried' 'Self-Employed' 'Freelancer' nan]\n",
      "Income_Level        :['<10L' '10L - 25L' '> 40L' '25L - 40L' nan]\n",
      "Medical History     :['Diabetes' 'High blood pressure' 'No Disease'\n",
      " 'Diabetes & High blood pressure' 'Thyroid' 'Heart disease'\n",
      " 'High blood pressure & Heart disease' 'Diabetes & Thyroid'\n",
      " 'Diabetes & Heart disease']\n",
      "Insurance_Plan      :['Bronze' 'Silver' 'Gold']\n"
     ]
    }
   ],
   "source": [
    "cat_cols = [col for col in df.select_dtypes(include='object').columns]\n",
    "for col in cat_cols:\n",
    "    print(f\"{col:<20}:{df[col].unique()}\")\n"
   ]
  },
  {
   "cell_type": "markdown",
   "id": "a45d7fe0",
   "metadata": {},
   "source": [
    "# ---------------------------------\n",
    "# 4. Data Cleaning\n",
    "# ---------------------------------"
   ]
  },
  {
   "cell_type": "code",
   "execution_count": null,
   "id": "69362d57",
   "metadata": {},
   "outputs": [
    {
     "data": {
      "text/plain": [
       "Age                       0\n",
       "Gender                    0\n",
       "Region                    0\n",
       "Marital_status            0\n",
       "Number Of Dependants      0\n",
       "BMI_Category              0\n",
       "Smoking_Status           11\n",
       "Employment_Status         2\n",
       "Income_Level             13\n",
       "Income_Lakhs              0\n",
       "Medical History           0\n",
       "Insurance_Plan            0\n",
       "Annual_Premium_Amount     0\n",
       "dtype: int64"
      ]
     },
     "execution_count": 35,
     "metadata": {},
     "output_type": "execute_result"
    }
   ],
   "source": [
    "# Missing values\n",
    "df.isna().sum()\n",
    "df2 = df.fillna('Unknown')\n"
   ]
  },
  {
   "cell_type": "code",
   "execution_count": 39,
   "id": "3e8fd67d",
   "metadata": {},
   "outputs": [
    {
     "data": {
      "text/plain": [
       "Age                      0\n",
       "Gender                   0\n",
       "Region                   0\n",
       "Marital_status           0\n",
       "Number Of Dependants     0\n",
       "BMI_Category             0\n",
       "Smoking_Status           0\n",
       "Employment_Status        0\n",
       "Income_Level             0\n",
       "Income_Lakhs             0\n",
       "Medical History          0\n",
       "Insurance_Plan           0\n",
       "Annual_Premium_Amount    0\n",
       "dtype: int64"
      ]
     },
     "execution_count": 39,
     "metadata": {},
     "output_type": "execute_result"
    }
   ],
   "source": [
    "df2.isna().sum()"
   ]
  },
  {
   "cell_type": "code",
   "execution_count": 50,
   "id": "7d19b658",
   "metadata": {},
   "outputs": [],
   "source": [
    "df2=df2[df2['Age']<=80]"
   ]
  },
  {
   "cell_type": "code",
   "execution_count": 51,
   "id": "e4c3683b",
   "metadata": {},
   "outputs": [
    {
     "data": {
      "text/plain": [
       "0"
      ]
     },
     "execution_count": 51,
     "metadata": {},
     "output_type": "execute_result"
    }
   ],
   "source": [
    "df2.duplicated().sum()"
   ]
  },
  {
   "cell_type": "code",
   "execution_count": 56,
   "id": "9558f151",
   "metadata": {},
   "outputs": [],
   "source": [
    "df2['Number Of Dependants'] = df2['Number Of Dependants'].apply(lambda row: abs(row) if row<0 else row) "
   ]
  },
  {
   "cell_type": "code",
   "execution_count": 80,
   "id": "e326e120",
   "metadata": {},
   "outputs": [],
   "source": [
    "df2['Income_Lakhs']=df2['Income_Lakhs'].apply(lambda row: int((row/100)*10) if row>=100 else row)"
   ]
  },
  {
   "cell_type": "code",
   "execution_count": 116,
   "id": "e33de82a",
   "metadata": {},
   "outputs": [],
   "source": [
    "df2['Smoking_Status']=df2['Smoking_Status'].apply(lambda row: 'No Smoking' if row not in ['Regular', 'Occasional'] else row )"
   ]
  },
  {
   "cell_type": "code",
   "execution_count": 118,
   "id": "aad10c20",
   "metadata": {},
   "outputs": [
    {
     "data": {
      "text/html": [
       "<div>\n",
       "<style scoped>\n",
       "    .dataframe tbody tr th:only-of-type {\n",
       "        vertical-align: middle;\n",
       "    }\n",
       "\n",
       "    .dataframe tbody tr th {\n",
       "        vertical-align: top;\n",
       "    }\n",
       "\n",
       "    .dataframe thead th {\n",
       "        text-align: right;\n",
       "    }\n",
       "</style>\n",
       "<table border=\"1\" class=\"dataframe\">\n",
       "  <thead>\n",
       "    <tr style=\"text-align: right;\">\n",
       "      <th></th>\n",
       "      <th>Age</th>\n",
       "      <th>Number Of Dependants</th>\n",
       "      <th>Income_Lakhs</th>\n",
       "      <th>Annual_Premium_Amount</th>\n",
       "    </tr>\n",
       "  </thead>\n",
       "  <tbody>\n",
       "    <tr>\n",
       "      <th>count</th>\n",
       "      <td>49942.000000</td>\n",
       "      <td>49942.000000</td>\n",
       "      <td>49942.000000</td>\n",
       "      <td>49942.000000</td>\n",
       "    </tr>\n",
       "    <tr>\n",
       "      <th>mean</th>\n",
       "      <td>34.403648</td>\n",
       "      <td>1.717853</td>\n",
       "      <td>22.716191</td>\n",
       "      <td>15767.897041</td>\n",
       "    </tr>\n",
       "    <tr>\n",
       "      <th>std</th>\n",
       "      <td>13.682354</td>\n",
       "      <td>1.492130</td>\n",
       "      <td>21.914384</td>\n",
       "      <td>8418.981981</td>\n",
       "    </tr>\n",
       "    <tr>\n",
       "      <th>min</th>\n",
       "      <td>18.000000</td>\n",
       "      <td>0.000000</td>\n",
       "      <td>1.000000</td>\n",
       "      <td>3501.000000</td>\n",
       "    </tr>\n",
       "    <tr>\n",
       "      <th>25%</th>\n",
       "      <td>22.000000</td>\n",
       "      <td>0.000000</td>\n",
       "      <td>7.000000</td>\n",
       "      <td>8608.000000</td>\n",
       "    </tr>\n",
       "    <tr>\n",
       "      <th>50%</th>\n",
       "      <td>31.000000</td>\n",
       "      <td>2.000000</td>\n",
       "      <td>16.000000</td>\n",
       "      <td>13929.000000</td>\n",
       "    </tr>\n",
       "    <tr>\n",
       "      <th>75%</th>\n",
       "      <td>45.000000</td>\n",
       "      <td>3.000000</td>\n",
       "      <td>31.000000</td>\n",
       "      <td>22275.000000</td>\n",
       "    </tr>\n",
       "    <tr>\n",
       "      <th>max</th>\n",
       "      <td>72.000000</td>\n",
       "      <td>5.000000</td>\n",
       "      <td>99.000000</td>\n",
       "      <td>43471.000000</td>\n",
       "    </tr>\n",
       "  </tbody>\n",
       "</table>\n",
       "</div>"
      ],
      "text/plain": [
       "                Age  Number Of Dependants  Income_Lakhs  Annual_Premium_Amount\n",
       "count  49942.000000          49942.000000  49942.000000           49942.000000\n",
       "mean      34.403648              1.717853     22.716191           15767.897041\n",
       "std       13.682354              1.492130     21.914384            8418.981981\n",
       "min       18.000000              0.000000      1.000000            3501.000000\n",
       "25%       22.000000              0.000000      7.000000            8608.000000\n",
       "50%       31.000000              2.000000     16.000000           13929.000000\n",
       "75%       45.000000              3.000000     31.000000           22275.000000\n",
       "max       72.000000              5.000000     99.000000           43471.000000"
      ]
     },
     "execution_count": 118,
     "metadata": {},
     "output_type": "execute_result"
    }
   ],
   "source": [
    "df2.describe()"
   ]
  },
  {
   "cell_type": "code",
   "execution_count": 119,
   "id": "6b41caa2",
   "metadata": {},
   "outputs": [
    {
     "name": "stdout",
     "output_type": "stream",
     "text": [
      "Gender              :['Male' 'Female']\n",
      "Region              :['Northwest' 'Southeast' 'Northeast' 'Southwest']\n",
      "Marital_status      :['Unmarried' 'Married']\n",
      "BMI_Category        :['Normal' 'Obesity' 'Overweight' 'Underweight']\n",
      "Smoking_Status      :['No Smoking' 'Regular' 'Occasional']\n",
      "Employment_Status   :['Salaried' 'Self-Employed' 'Freelancer' 'Unknown']\n",
      "Income_Level        :['<10L' '10L - 25L' '> 40L' '25L - 40L' 'Unknown']\n",
      "Medical History     :['Diabetes' 'High blood pressure' 'No Disease'\n",
      " 'Diabetes & High blood pressure' 'Thyroid' 'Heart disease'\n",
      " 'High blood pressure & Heart disease' 'Diabetes & Thyroid'\n",
      " 'Diabetes & Heart disease']\n",
      "Insurance_Plan      :['Bronze' 'Silver' 'Gold']\n"
     ]
    }
   ],
   "source": [
    "for col in cat_cols:\n",
    "    print(f\"{col:<20}:{df2[col].unique()}\")"
   ]
  },
  {
   "cell_type": "markdown",
   "id": "40e4151d",
   "metadata": {},
   "source": [
    "Phase 4 – Exploratory Data Analysis (EDA)\n",
    "\n",
    "Univariate Analysis:\n",
    "\n",
    "Numeric → histograms, boxplots.\n",
    "\n",
    "Categorical → countplots, percentages.\n",
    "\n",
    "Bivariate Analysis:\n",
    "\n",
    "Numeric vs Target → scatterplots, correlation heatmap.\n",
    "\n",
    "Categorical vs Target → boxplots, group means.\n",
    "\n",
    "Insights Gathering:\n",
    "\n",
    "How premium varies with age, BMI, smoking, income, etc.\n",
    "\n",
    "Which medical conditions contribute most."
   ]
  },
  {
   "cell_type": "code",
   "execution_count": 120,
   "id": "f1a201a0",
   "metadata": {},
   "outputs": [],
   "source": [
    "df3 = df2.copy()"
   ]
  },
  {
   "cell_type": "markdown",
   "id": "6060a78c",
   "metadata": {},
   "source": [
    "Phase 5 – Feature Engineering\n",
    "\n",
    "Categorical Encoding:\n",
    "\n",
    "Ordinal (Income_Level, BMI_Category).\n",
    "\n",
    "One-hot (Region, Employment_Status, Insurance_Plan).\n",
    "\n",
    "Medical History Expansion: Split into multiple binary flags (Diabetes=1/0, HeartDisease=1/0).\n",
    "\n",
    "Interaction Features:\n",
    "\n",
    "Age × Smoking_Status.\n",
    "\n",
    "Income_Lakhs / Dependants.\n",
    "\n",
    "Scaling:\n",
    "\n",
    "Standardize numeric features if using regression/NN.\n",
    "\n",
    "Tree models don’t need scaling."
   ]
  },
  {
   "cell_type": "code",
   "execution_count": null,
   "id": "1c73b267",
   "metadata": {},
   "outputs": [],
   "source": []
  },
  {
   "cell_type": "markdown",
   "id": "ae74cc4a",
   "metadata": {},
   "source": [
    "Phase 6 – Outlier Handling\n",
    "\n",
    "Cap/floor extreme values:\n",
    "\n",
    "Age (18–100).\n",
    "\n",
    "Dependants (0–6).\n",
    "\n",
    "Income_Lakhs (winsorize at top 99%).\n",
    "\n",
    "Premium (treat extreme high outliers carefully)."
   ]
  },
  {
   "cell_type": "code",
   "execution_count": null,
   "id": "ebcb2dba",
   "metadata": {},
   "outputs": [],
   "source": []
  }
 ],
 "metadata": {
  "kernelspec": {
   "display_name": "base",
   "language": "python",
   "name": "python3"
  },
  "language_info": {
   "codemirror_mode": {
    "name": "ipython",
    "version": 3
   },
   "file_extension": ".py",
   "mimetype": "text/x-python",
   "name": "python",
   "nbconvert_exporter": "python",
   "pygments_lexer": "ipython3",
   "version": "3.11.7"
  }
 },
 "nbformat": 4,
 "nbformat_minor": 5
}
